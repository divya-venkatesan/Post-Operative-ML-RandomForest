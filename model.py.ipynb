{
 "cells": [
  {
   "cell_type": "code",
   "execution_count": 30,
   "id": "d0f38fe5",
   "metadata": {},
   "outputs": [],
   "source": [
    "import matplotlib.pyplot as plt\n",
    "import seaborn as sns\n",
    "import pandas as pd\n",
    "from sklearn.ensemble import RandomForestClassifier\n",
    "from sklearn.preprocessing import StandardScaler\n",
    "import pickle"
   ]
  },
  {
   "cell_type": "code",
   "execution_count": 31,
   "id": "f338b9ec",
   "metadata": {},
   "outputs": [],
   "source": [
    "data = pd.read_csv(\"post-operative.csv\",sep = \",\", names = [\"L-Core\",\"L-Surf\",\"L-O2\",\"L-BP\",\"Surf-STBL\",\"Core-STBL\",\"BP-STBL\",\"Comfort\",\"Decision\"])"
   ]
  },
  {
   "cell_type": "code",
   "execution_count": 32,
   "id": "ee27fc60",
   "metadata": {},
   "outputs": [
    {
     "data": {
      "text/html": [
       "<div>\n",
       "<style scoped>\n",
       "    .dataframe tbody tr th:only-of-type {\n",
       "        vertical-align: middle;\n",
       "    }\n",
       "\n",
       "    .dataframe tbody tr th {\n",
       "        vertical-align: top;\n",
       "    }\n",
       "\n",
       "    .dataframe thead th {\n",
       "        text-align: right;\n",
       "    }\n",
       "</style>\n",
       "<table border=\"1\" class=\"dataframe\">\n",
       "  <thead>\n",
       "    <tr style=\"text-align: right;\">\n",
       "      <th></th>\n",
       "      <th>L-Core</th>\n",
       "      <th>L-Surf</th>\n",
       "      <th>L-O2</th>\n",
       "      <th>L-BP</th>\n",
       "      <th>Surf-STBL</th>\n",
       "      <th>Core-STBL</th>\n",
       "      <th>BP-STBL</th>\n",
       "      <th>Comfort</th>\n",
       "      <th>Decision</th>\n",
       "    </tr>\n",
       "  </thead>\n",
       "  <tbody>\n",
       "    <tr>\n",
       "      <th>0</th>\n",
       "      <td>mid</td>\n",
       "      <td>low</td>\n",
       "      <td>excellent</td>\n",
       "      <td>mid</td>\n",
       "      <td>stable</td>\n",
       "      <td>stable</td>\n",
       "      <td>stable</td>\n",
       "      <td>15</td>\n",
       "      <td>A</td>\n",
       "    </tr>\n",
       "    <tr>\n",
       "      <th>1</th>\n",
       "      <td>mid</td>\n",
       "      <td>high</td>\n",
       "      <td>excellent</td>\n",
       "      <td>high</td>\n",
       "      <td>stable</td>\n",
       "      <td>stable</td>\n",
       "      <td>stable</td>\n",
       "      <td>10</td>\n",
       "      <td>S</td>\n",
       "    </tr>\n",
       "    <tr>\n",
       "      <th>2</th>\n",
       "      <td>high</td>\n",
       "      <td>low</td>\n",
       "      <td>excellent</td>\n",
       "      <td>high</td>\n",
       "      <td>stable</td>\n",
       "      <td>stable</td>\n",
       "      <td>mod-stable</td>\n",
       "      <td>10</td>\n",
       "      <td>A</td>\n",
       "    </tr>\n",
       "    <tr>\n",
       "      <th>3</th>\n",
       "      <td>mid</td>\n",
       "      <td>low</td>\n",
       "      <td>good</td>\n",
       "      <td>high</td>\n",
       "      <td>stable</td>\n",
       "      <td>unstable</td>\n",
       "      <td>mod-stable</td>\n",
       "      <td>15</td>\n",
       "      <td>A</td>\n",
       "    </tr>\n",
       "    <tr>\n",
       "      <th>4</th>\n",
       "      <td>mid</td>\n",
       "      <td>mid</td>\n",
       "      <td>excellent</td>\n",
       "      <td>high</td>\n",
       "      <td>stable</td>\n",
       "      <td>stable</td>\n",
       "      <td>stable</td>\n",
       "      <td>10</td>\n",
       "      <td>A</td>\n",
       "    </tr>\n",
       "  </tbody>\n",
       "</table>\n",
       "</div>"
      ],
      "text/plain": [
       "  L-Core L-Surf       L-O2  L-BP Surf-STBL Core-STBL     BP-STBL Comfort  \\\n",
       "0    mid    low  excellent   mid    stable    stable      stable      15   \n",
       "1    mid   high  excellent  high    stable    stable      stable      10   \n",
       "2   high    low  excellent  high    stable    stable  mod-stable      10   \n",
       "3    mid    low       good  high    stable  unstable  mod-stable      15   \n",
       "4    mid    mid  excellent  high    stable    stable      stable      10   \n",
       "\n",
       "  Decision  \n",
       "0        A  \n",
       "1        S  \n",
       "2        A  \n",
       "3       A   \n",
       "4        A  "
      ]
     },
     "execution_count": 32,
     "metadata": {},
     "output_type": "execute_result"
    }
   ],
   "source": [
    "data.head()"
   ]
  },
  {
   "cell_type": "code",
   "execution_count": 33,
   "id": "0ef6c457",
   "metadata": {},
   "outputs": [],
   "source": [
    "from sklearn import preprocessing\n",
    "from sklearn.preprocessing import LabelEncoder\n",
    "le=preprocessing.LabelEncoder()\n",
    "from sklearn.model_selection import train_test_split\n",
    "from sklearn.preprocessing import LabelEncoder"
   ]
  },
  {
   "cell_type": "code",
   "execution_count": 34,
   "id": "02a98b88",
   "metadata": {},
   "outputs": [
    {
     "name": "stdout",
     "output_type": "stream",
     "text": [
      "{0: 'high', 1: 'low', 2: 'mid'}\n"
     ]
    }
   ],
   "source": [
    "L_Core_vals = [\"high\",\"mid\",\"low\"]\n",
    "le=preprocessing.LabelEncoder()\n",
    "le.fit(L_Core_vals)\n",
    "L_Core_vals_dict={index: value for index, value in enumerate(le.classes_)}\n",
    "print(L_Core_vals_dict)"
   ]
  },
  {
   "cell_type": "code",
   "execution_count": 35,
   "id": "be0fa606",
   "metadata": {},
   "outputs": [
    {
     "name": "stdout",
     "output_type": "stream",
     "text": [
      "{0: 'high', 1: 'low', 2: 'mid'}\n"
     ]
    }
   ],
   "source": [
    "L_Surf_vals = [\"high\",\"mid\",\"low\"]\n",
    "le=preprocessing.LabelEncoder()\n",
    "le.fit(L_Core_vals)\n",
    "L_Surf_vals_dict={index: value for index, value in enumerate(le.classes_)}\n",
    "print(L_Surf_vals_dict)"
   ]
  },
  {
   "cell_type": "code",
   "execution_count": 36,
   "id": "ba44acab",
   "metadata": {},
   "outputs": [
    {
     "name": "stdout",
     "output_type": "stream",
     "text": [
      "{0: 'excellent', 1: 'good'}\n"
     ]
    }
   ],
   "source": [
    "L_O2_vals = [\"excellent\",\"good\"]\n",
    "le=preprocessing.LabelEncoder()\n",
    "le.fit(L_O2_vals)\n",
    "L_O2_vals_dict={index: value for index, value in enumerate(le.classes_)}\n",
    "print(L_O2_vals_dict)"
   ]
  },
  {
   "cell_type": "code",
   "execution_count": 37,
   "id": "b461da3b",
   "metadata": {},
   "outputs": [
    {
     "name": "stdout",
     "output_type": "stream",
     "text": [
      "{0: 'high', 1: 'low', 2: 'mid'}\n"
     ]
    }
   ],
   "source": [
    "L_BP_vals = [\"high\",\"mid\",\"low\"]\n",
    "le=preprocessing.LabelEncoder()\n",
    "le.fit(L_BP_vals)\n",
    "L_BP_vals_dict={index: value for index, value in enumerate(le.classes_)}\n",
    "print(L_BP_vals_dict)"
   ]
  },
  {
   "cell_type": "code",
   "execution_count": 38,
   "id": "14964e7f",
   "metadata": {},
   "outputs": [
    {
     "name": "stdout",
     "output_type": "stream",
     "text": [
      "{0: 'mod-stable', 1: 'stable', 2: 'unstable'}\n"
     ]
    }
   ],
   "source": [
    "surf_STBL_vals = [\"stable\",\"mod-stable\",\"unstable\"]\n",
    "le=preprocessing.LabelEncoder()\n",
    "le.fit(surf_STBL_vals)\n",
    "surf_STBL_vals_dict={index: value for index, value in enumerate(le.classes_)}\n",
    "print(surf_STBL_vals_dict)"
   ]
  },
  {
   "cell_type": "code",
   "execution_count": 39,
   "id": "3b4d2284",
   "metadata": {},
   "outputs": [
    {
     "name": "stdout",
     "output_type": "stream",
     "text": [
      "{0: 'mod-stable', 1: 'stable', 2: 'unstable'}\n"
     ]
    }
   ],
   "source": [
    "core_STBL_vals = [\"stable\",\"mod-stable\",\"unstable\"]\n",
    "le=preprocessing.LabelEncoder()\n",
    "le.fit(core_STBL_vals)\n",
    "core_STBL_vals_dict={index: value for index, value in enumerate(le.classes_)}\n",
    "print(core_STBL_vals_dict)"
   ]
  },
  {
   "cell_type": "code",
   "execution_count": 40,
   "id": "89fab612",
   "metadata": {},
   "outputs": [
    {
     "name": "stdout",
     "output_type": "stream",
     "text": [
      "{0: 'mod-stable', 1: 'stable', 2: 'unstable'}\n"
     ]
    }
   ],
   "source": [
    "BP_STBL_vals = [\"stable\",\"mod-stable\",\"unstable\"]\n",
    "le=preprocessing.LabelEncoder()\n",
    "le.fit(BP_STBL_vals)\n",
    "BP_STBL_vals_dict={index: value for index, value in enumerate(le.classes_)}\n",
    "print(BP_STBL_vals_dict)"
   ]
  },
  {
   "cell_type": "code",
   "execution_count": 41,
   "id": "f5dfa714",
   "metadata": {},
   "outputs": [],
   "source": [
    "number = LabelEncoder()\n",
    "data[\"L-Core\"] = number.fit_transform(data['L-Core'])\n",
    "data[\"L-Surf\"] = number.fit_transform(data['L-Surf'])\n",
    "data[\"L-O2\"] = number.fit_transform(data['L-O2'])\n",
    "data[\"L-BP\"] = number.fit_transform(data['L-BP'])\n",
    "data[\"Surf-STBL\"] = number.fit_transform(data['Surf-STBL'])\n",
    "data[\"Core-STBL\"] = number.fit_transform(data['Core-STBL'])\n",
    "data[\"BP-STBL\"] = number.fit_transform(data['BP-STBL'])\n",
    "data[\"Comfort\"] = number.fit_transform(data['Comfort'])"
   ]
  },
  {
   "cell_type": "code",
   "execution_count": 42,
   "id": "460e8207",
   "metadata": {},
   "outputs": [],
   "source": [
    "X = data[[\"L-Core\",\"L-Surf\",\"L-O2\",\"L-BP\",\"Surf-STBL\",\"Core-STBL\",\"BP-STBL\",\"Comfort\"]]\n",
    "y = data[\"Decision\"]"
   ]
  },
  {
   "cell_type": "code",
   "execution_count": 43,
   "id": "044f0d33",
   "metadata": {},
   "outputs": [],
   "source": [
    "X_train, X_test, y_train, y_test = train_test_split(X,y)\n",
    "test_size = 0.20,\n",
    "random_state = 0"
   ]
  },
  {
   "cell_type": "code",
   "execution_count": 44,
   "id": "a606b9ec",
   "metadata": {},
   "outputs": [],
   "source": [
    "sc = StandardScaler()\n",
    "X_train = sc.fit_transform(X_train)\n",
    "X_test= sc.transform(X_test)"
   ]
  },
  {
   "cell_type": "code",
   "execution_count": 45,
   "id": "054dc08d",
   "metadata": {},
   "outputs": [
    {
     "data": {
      "text/plain": [
       "RandomForestClassifier()"
      ]
     },
     "execution_count": 45,
     "metadata": {},
     "output_type": "execute_result"
    }
   ],
   "source": [
    "classifier = RandomForestClassifier()\n",
    "classifier.fit(X_train, y_train)"
   ]
  },
  {
   "cell_type": "code",
   "execution_count": 46,
   "id": "03a0d068",
   "metadata": {},
   "outputs": [],
   "source": [
    "pickle.dump(classifier, open(\"model.pkl\", \"wb\"))"
   ]
  },
  {
   "cell_type": "code",
   "execution_count": 47,
   "id": "1fb656b7",
   "metadata": {},
   "outputs": [],
   "source": [
    "from sklearn.metrics import accuracy_score\n",
    "from sklearn.metrics import recall_score\n",
    "from sklearn.metrics import confusion_matrix"
   ]
  },
  {
   "cell_type": "code",
   "execution_count": 48,
   "id": "97fdb1ee",
   "metadata": {},
   "outputs": [
    {
     "name": "stdout",
     "output_type": "stream",
     "text": [
      "0.5217391304347826\n"
     ]
    }
   ],
   "source": [
    "y_pred = classifier.predict(X_test)\n",
    "ac = accuracy_score(y_test,y_pred, normalize = True)\n",
    "print(ac)"
   ]
  },
  {
   "cell_type": "code",
   "execution_count": 49,
   "id": "326ed5fa",
   "metadata": {},
   "outputs": [
    {
     "name": "stdout",
     "output_type": "stream",
     "text": [
      "[[12  0  1]\n",
      " [ 2  0  0]\n",
      " [ 8  0  0]]\n"
     ]
    }
   ],
   "source": [
    "cm = confusion_matrix(y_test, y_pred)\n",
    "print(cm)"
   ]
  },
  {
   "cell_type": "code",
   "execution_count": 50,
   "id": "d09aa9aa",
   "metadata": {},
   "outputs": [
    {
     "data": {
      "image/png": "[encoded data removed]",
      "text/plain": [
       "<Figure size 648x648 with 1 Axes>"
      ]
     },
     "metadata": {
      "needs_background": "light"
     },
     "output_type": "display_data"
    }
   ],
   "source": [
    "plt.figure(figsize=(9,9))\n",
    "sns.heatmap(cm,annot=True,  linewidth = 5.0, square = True, cbar = False, cmap = \"Spectral\")\n",
    "plt.ylabel(\"Actual Values\")\n",
    "plt.xlabel(\"Predicted Values\")\n",
    "plt.show()"
   ]
  },
  {
   "cell_type": "code",
   "execution_count": 51,
   "id": "d1415bec",
   "metadata": {},
   "outputs": [
    {
     "name": "stdout",
     "output_type": "stream",
     "text": [
      "              precision    recall  f1-score   support\n",
      "\n",
      "           A       0.55      0.92      0.69        13\n",
      "           I       0.00      0.00      0.00         2\n",
      "           S       0.00      0.00      0.00         8\n",
      "\n",
      "    accuracy                           0.52        23\n",
      "   macro avg       0.18      0.31      0.23        23\n",
      "weighted avg       0.31      0.52      0.39        23\n",
      "\n"
     ]
    },
    {
     "name": "stderr",
     "output_type": "stream",
     "text": [
      "/Users/divyavenkatesan/opt/anaconda3/lib/python3.8/site-packages/sklearn/metrics/_classification.py:1245: UndefinedMetricWarning: Precision and F-score are ill-defined and being set to 0.0 in labels with no predicted samples. Use `zero_division` parameter to control this behavior.\n",
      "  _warn_prf(average, modifier, msg_start, len(result))\n",
      "/Users/divyavenkatesan/opt/anaconda3/lib/python3.8/site-packages/sklearn/metrics/_classification.py:1245: UndefinedMetricWarning: Precision and F-score are ill-defined and being set to 0.0 in labels with no predicted samples. Use `zero_division` parameter to control this behavior.\n",
      "  _warn_prf(average, modifier, msg_start, len(result))\n",
      "/Users/divyavenkatesan/opt/anaconda3/lib/python3.8/site-packages/sklearn/metrics/_classification.py:1245: UndefinedMetricWarning: Precision and F-score are ill-defined and being set to 0.0 in labels with no predicted samples. Use `zero_division` parameter to control this behavior.\n",
      "  _warn_prf(average, modifier, msg_start, len(result))\n"
     ]
    }
   ],
   "source": [
    "from sklearn.metrics import classification_report\n",
    "print(classification_report(y_test,y_pred))"
   ]
  },
  {
   "cell_type": "code",
   "execution_count": 52,
   "id": "d8e19844",
   "metadata": {},
   "outputs": [
    {
     "name": "stdout",
     "output_type": "stream",
     "text": [
      "['A']\n"
     ]
    }
   ],
   "source": [
    "print(classifier.predict([[0,0,0,0,0,0,0,12]]))"
   ]
  },
  {
   "cell_type": "code",
   "execution_count": null,
   "id": "23abb594",
   "metadata": {},
   "outputs": [],
   "source": []
  }
 ],
 "metadata": {
  "kernelspec": {
   "display_name": "Python 3",
   "language": "python",
   "name": "python3"
  },
  "language_info": {
   "codemirror_mode": {
    "name": "ipython",
    "version": 3
   },
   "file_extension": ".py",
   "mimetype": "text/x-python",
   "name": "python",
   "nbconvert_exporter": "python",
   "pygments_lexer": "ipython3",
   "version": "3.8.8"
  }
 },
 "nbformat": 4,
 "nbformat_minor": 5
}
