{
 "cells": [
  {
   "cell_type": "code",
   "execution_count": null,
   "id": "23a7c5cf",
   "metadata": {},
   "outputs": [],
   "source": [
    "import numpy as np\n",
    "from flask import Flask, request, jsonify, render_template\n",
    "import pickle\n",
    "\n",
    "app = Flask(__name__)\n",
    "\n",
    "model = pickle.load(open(\"model.pkl\", \"rb\"))\n",
    "\n",
    "@app.route(\"/\")\n",
    "def Home():\n",
    "    return render_template(\"index.html\")\n",
    "\n",
    "@app.route(\"/predict\", methods = [\"POST\"])\n",
    "def predict():\n",
    "   float_attributes = [float(x) for x in request.form.values()]\n",
    "   final_attributes = [np.array(float_attributes)]\n",
    "   prediction = model.predict(final_attributes)\n",
    "   return render_template(\"index.html\", prediction_text = \"Based on the information you entered, there is a likelihood of being sent {}\".format(prediction))\n",
    "\n",
    "\n",
    "if __name__ == \"__main__\":\n",
    "    app.run(port=3000)\n"
   ]
  },
  {
   "cell_type": "code",
   "execution_count": null,
   "id": "19b60b43",
   "metadata": {},
   "outputs": [],
   "source": []
  }
 ],
 "metadata": {
  "kernelspec": {
   "display_name": "Python 3",
   "language": "python",
   "name": "python3"
  },
  "language_info": {
   "codemirror_mode": {
    "name": "ipython",
    "version": 3
   },
   "file_extension": ".py",
   "mimetype": "text/x-python",
   "name": "python",
   "nbconvert_exporter": "python",
   "pygments_lexer": "ipython3",
   "version": "3.8.8"
  }
 },
 "nbformat": 4,
 "nbformat_minor": 5
}
